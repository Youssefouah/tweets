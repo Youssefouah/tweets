{
 "cells": [
  {
   "cell_type": "code",
   "execution_count": 1,
   "metadata": {},
   "outputs": [],
   "source": [
    "import nltk\n",
    "import pandas as pd\n",
    "import numpy as np\n",
    "import seaborn as sns\n",
    "import matplotlib.pyplot as plt\n",
    "import re\n",
    "from nltk.tokenize import word_tokenize\n",
    "from nltk.corpus import stopwords\n",
    "from nltk.stem import PorterStemmer,WordNetLemmatizer\n",
    "import string \n",
    "punct = string.punctuation\n",
    "from sklearn.linear_model import LogisticRegression\n",
    "from sklearn.ensemble import RandomForestClassifier\n",
    "from sklearn.model_selection import GridSearchCV\n",
    "from sklearn import svm\n",
    "from sklearn.metrics import accuracy_score,confusion_matrix,r2_score,recall_score,precision_score\n",
    "from sklearn.model_selection import train_test_split,KFold,cross_val_score\n"
   ]
  },
  {
   "cell_type": "code",
   "execution_count": 2,
   "metadata": {},
   "outputs": [
    {
     "name": "stdout",
     "output_type": "stream",
     "text": [
      "(7613, 4)\n",
      "(3263, 4)\n"
     ]
    },
    {
     "data": {
      "text/html": [
       "<div>\n",
       "<style scoped>\n",
       "    .dataframe tbody tr th:only-of-type {\n",
       "        vertical-align: middle;\n",
       "    }\n",
       "\n",
       "    .dataframe tbody tr th {\n",
       "        vertical-align: top;\n",
       "    }\n",
       "\n",
       "    .dataframe thead th {\n",
       "        text-align: right;\n",
       "    }\n",
       "</style>\n",
       "<table border=\"1\" class=\"dataframe\">\n",
       "  <thead>\n",
       "    <tr style=\"text-align: right;\">\n",
       "      <th></th>\n",
       "      <th>keyword</th>\n",
       "      <th>location</th>\n",
       "      <th>text</th>\n",
       "      <th>target</th>\n",
       "    </tr>\n",
       "    <tr>\n",
       "      <th>id</th>\n",
       "      <th></th>\n",
       "      <th></th>\n",
       "      <th></th>\n",
       "      <th></th>\n",
       "    </tr>\n",
       "  </thead>\n",
       "  <tbody>\n",
       "    <tr>\n",
       "      <th>1</th>\n",
       "      <td>NaN</td>\n",
       "      <td>NaN</td>\n",
       "      <td>Our Deeds are the Reason of this #earthquake M...</td>\n",
       "      <td>1</td>\n",
       "    </tr>\n",
       "    <tr>\n",
       "      <th>4</th>\n",
       "      <td>NaN</td>\n",
       "      <td>NaN</td>\n",
       "      <td>Forest fire near La Ronge Sask. Canada</td>\n",
       "      <td>1</td>\n",
       "    </tr>\n",
       "    <tr>\n",
       "      <th>5</th>\n",
       "      <td>NaN</td>\n",
       "      <td>NaN</td>\n",
       "      <td>All residents asked to 'shelter in place' are ...</td>\n",
       "      <td>1</td>\n",
       "    </tr>\n",
       "    <tr>\n",
       "      <th>6</th>\n",
       "      <td>NaN</td>\n",
       "      <td>NaN</td>\n",
       "      <td>13,000 people receive #wildfires evacuation or...</td>\n",
       "      <td>1</td>\n",
       "    </tr>\n",
       "    <tr>\n",
       "      <th>7</th>\n",
       "      <td>NaN</td>\n",
       "      <td>NaN</td>\n",
       "      <td>Just got sent this photo from Ruby #Alaska as ...</td>\n",
       "      <td>1</td>\n",
       "    </tr>\n",
       "  </tbody>\n",
       "</table>\n",
       "</div>"
      ],
      "text/plain": [
       "   keyword location                                               text  target\n",
       "id                                                                            \n",
       "1      NaN      NaN  Our Deeds are the Reason of this #earthquake M...       1\n",
       "4      NaN      NaN             Forest fire near La Ronge Sask. Canada       1\n",
       "5      NaN      NaN  All residents asked to 'shelter in place' are ...       1\n",
       "6      NaN      NaN  13,000 people receive #wildfires evacuation or...       1\n",
       "7      NaN      NaN  Just got sent this photo from Ruby #Alaska as ...       1"
      ]
     },
     "execution_count": 2,
     "metadata": {},
     "output_type": "execute_result"
    }
   ],
   "source": [
    "#read data \n",
    "data_train = pd.read_csv(\"nlp/train.csv\",index_col='id')\n",
    "data_test = pd.read_csv(\"nlp/test.csv\")\n",
    "\n",
    "\n",
    "print(data_train.shape)\n",
    "print(data_test.shape)\n",
    "#print(data_test.head())\n",
    "data_train.head()"
   ]
  },
  {
   "cell_type": "code",
   "execution_count": 3,
   "metadata": {},
   "outputs": [
    {
     "data": {
      "text/html": [
       "<div>\n",
       "<style scoped>\n",
       "    .dataframe tbody tr th:only-of-type {\n",
       "        vertical-align: middle;\n",
       "    }\n",
       "\n",
       "    .dataframe tbody tr th {\n",
       "        vertical-align: top;\n",
       "    }\n",
       "\n",
       "    .dataframe thead th {\n",
       "        text-align: right;\n",
       "    }\n",
       "</style>\n",
       "<table border=\"1\" class=\"dataframe\">\n",
       "  <thead>\n",
       "    <tr style=\"text-align: right;\">\n",
       "      <th></th>\n",
       "      <th>target</th>\n",
       "    </tr>\n",
       "  </thead>\n",
       "  <tbody>\n",
       "    <tr>\n",
       "      <th>count</th>\n",
       "      <td>7613.00000</td>\n",
       "    </tr>\n",
       "    <tr>\n",
       "      <th>mean</th>\n",
       "      <td>0.42966</td>\n",
       "    </tr>\n",
       "    <tr>\n",
       "      <th>std</th>\n",
       "      <td>0.49506</td>\n",
       "    </tr>\n",
       "    <tr>\n",
       "      <th>min</th>\n",
       "      <td>0.00000</td>\n",
       "    </tr>\n",
       "    <tr>\n",
       "      <th>25%</th>\n",
       "      <td>0.00000</td>\n",
       "    </tr>\n",
       "    <tr>\n",
       "      <th>50%</th>\n",
       "      <td>0.00000</td>\n",
       "    </tr>\n",
       "    <tr>\n",
       "      <th>75%</th>\n",
       "      <td>1.00000</td>\n",
       "    </tr>\n",
       "    <tr>\n",
       "      <th>max</th>\n",
       "      <td>1.00000</td>\n",
       "    </tr>\n",
       "  </tbody>\n",
       "</table>\n",
       "</div>"
      ],
      "text/plain": [
       "           target\n",
       "count  7613.00000\n",
       "mean      0.42966\n",
       "std       0.49506\n",
       "min       0.00000\n",
       "25%       0.00000\n",
       "50%       0.00000\n",
       "75%       1.00000\n",
       "max       1.00000"
      ]
     },
     "execution_count": 3,
     "metadata": {},
     "output_type": "execute_result"
    }
   ],
   "source": [
    "#describe data \n",
    "data_train.describe()"
   ]
  },
  {
   "cell_type": "code",
   "execution_count": 4,
   "metadata": {},
   "outputs": [
    {
     "name": "stdout",
     "output_type": "stream",
     "text": [
      "<class 'pandas.core.frame.DataFrame'>\n",
      "Index: 7613 entries, 1 to 10873\n",
      "Data columns (total 4 columns):\n",
      " #   Column    Non-Null Count  Dtype \n",
      "---  ------    --------------  ----- \n",
      " 0   keyword   7552 non-null   object\n",
      " 1   location  5080 non-null   object\n",
      " 2   text      7613 non-null   object\n",
      " 3   target    7613 non-null   int64 \n",
      "dtypes: int64(1), object(3)\n",
      "memory usage: 297.4+ KB\n"
     ]
    }
   ],
   "source": [
    "data_train.info()"
   ]
  },
  {
   "cell_type": "code",
   "execution_count": 5,
   "metadata": {},
   "outputs": [
    {
     "data": {
      "text/plain": [
       "target\n",
       "0    4342\n",
       "1    3271\n",
       "Name: count, dtype: int64"
      ]
     },
     "execution_count": 5,
     "metadata": {},
     "output_type": "execute_result"
    }
   ],
   "source": [
    "data_train[\"target\"].value_counts()"
   ]
  },
  {
   "cell_type": "code",
   "execution_count": 6,
   "metadata": {},
   "outputs": [
    {
     "data": {
      "text/plain": [
       "keyword       61\n",
       "location    2533\n",
       "text           0\n",
       "target         0\n",
       "dtype: int64"
      ]
     },
     "execution_count": 6,
     "metadata": {},
     "output_type": "execute_result"
    }
   ],
   "source": [
    "#sum of data nan\n",
    "data_train.isna().sum()"
   ]
  },
  {
   "cell_type": "code",
   "execution_count": 7,
   "metadata": {},
   "outputs": [
    {
     "data": {
      "text/plain": [
       "id             0\n",
       "keyword       26\n",
       "location    1105\n",
       "text           0\n",
       "dtype: int64"
      ]
     },
     "execution_count": 7,
     "metadata": {},
     "output_type": "execute_result"
    }
   ],
   "source": [
    "#sum of data nan\n",
    "data_test.isna().sum()"
   ]
  },
  {
   "cell_type": "code",
   "execution_count": 8,
   "metadata": {},
   "outputs": [],
   "source": [
    "#drop nan in keyword\n",
    "data_train.dropna(subset=['keyword'],inplace=True) "
   ]
  },
  {
   "cell_type": "code",
   "execution_count": 9,
   "metadata": {},
   "outputs": [],
   "source": [
    "#fill the location \n",
    "special_token = 'Not found'\n",
    "\n",
    "data_train['location'].fillna(special_token, inplace=True)"
   ]
  },
  {
   "cell_type": "code",
   "execution_count": 10,
   "metadata": {},
   "outputs": [],
   "source": [
    "t_keywords = data_train['keyword'].value_counts().head()"
   ]
  },
  {
   "cell_type": "code",
   "execution_count": 11,
   "metadata": {},
   "outputs": [
    {
     "data": {
      "text/plain": [
       "Text(0, 0.5, 'keywords')"
      ]
     },
     "execution_count": 11,
     "metadata": {},
     "output_type": "execute_result"
    },
    {
     "data": {
      "image/png": "[encoded data removed]",
      "text/plain": [
       "<Figure size 640x480 with 1 Axes>"
      ]
     },
     "metadata": {},
     "output_type": "display_data"
    }
   ],
   "source": [
    "plt.barh(t_keywords.index,t_keywords.values)\n",
    "plt.title(\"Keywords\")\n",
    "plt.xlabel(\"Freq\")\n",
    "plt.ylabel(\"keywords\")"
   ]
  },
  {
   "cell_type": "code",
   "execution_count": 12,
   "metadata": {},
   "outputs": [
    {
     "data": {
      "text/plain": [
       "location\n",
       "Not found          2472\n",
       "USA                 104\n",
       "New York             71\n",
       "United States        50\n",
       "London               45\n",
       "Canada               29\n",
       "Nigeria              28\n",
       "UK                   27\n",
       "Los Angeles, CA      26\n",
       "India                24\n",
       "Mumbai               22\n",
       "Washington, DC       21\n",
       "Kenya                20\n",
       "Worldwide            19\n",
       "Australia            18\n",
       "Name: count, dtype: int64"
      ]
     },
     "execution_count": 12,
     "metadata": {},
     "output_type": "execute_result"
    }
   ],
   "source": [
    "t_location = data_train['location'].value_counts().head(15)\n",
    "t_location\n"
   ]
  },
  {
   "cell_type": "code",
   "execution_count": 13,
   "metadata": {},
   "outputs": [
    {
     "data": {
      "text/plain": [
       "location\n",
       "USA                104\n",
       "New York            71\n",
       "United States       50\n",
       "London              45\n",
       "Canada              29\n",
       "Nigeria             28\n",
       "UK                  27\n",
       "Los Angeles, CA     26\n",
       "India               24\n",
       "Mumbai              22\n",
       "Washington, DC      21\n",
       "Kenya               20\n",
       "Worldwide           19\n",
       "Australia           18\n",
       "Chicago, IL         18\n",
       "Name: count, dtype: int64"
      ]
     },
     "execution_count": 13,
     "metadata": {},
     "output_type": "execute_result"
    }
   ],
   "source": [
    "tt_locations = data_train['location'].value_counts()[1:].head(15)\n",
    "tt_locations"
   ]
  },
  {
   "cell_type": "code",
   "execution_count": 14,
   "metadata": {},
   "outputs": [
    {
     "data": {
      "text/plain": [
       "Text(0, 0.5, 'location')"
      ]
     },
     "execution_count": 14,
     "metadata": {},
     "output_type": "execute_result"
    },
    {
     "data": {
      "image/png": "[encoded data removed]",
      "text/plain": [
       "<Figure size 640x480 with 1 Axes>"
      ]
     },
     "metadata": {},
     "output_type": "display_data"
    }
   ],
   "source": [
    "plt.barh(t_location.index,t_location.values)\n",
    "plt.title(\"Locations\")\n",
    "plt.xlabel(\"Freq\")\n",
    "plt.ylabel(\"location\")"
   ]
  },
  {
   "cell_type": "code",
   "execution_count": 15,
   "metadata": {},
   "outputs": [
    {
     "data": {
      "text/plain": [
       "Text(0, 0.5, 'location')"
      ]
     },
     "execution_count": 15,
     "metadata": {},
     "output_type": "execute_result"
    },
    {
     "data": {
      "image/png": "[encoded data removed]",
      "text/plain": [
       "<Figure size 640x480 with 1 Axes>"
      ]
     },
     "metadata": {},
     "output_type": "display_data"
    }
   ],
   "source": [
    "plt.barh(tt_locations.index,tt_locations.values)\n",
    "plt.title(\"Locations\")\n",
    "plt.xlabel(\"Freq\")\n",
    "plt.ylabel(\"location\")"
   ]
  },
  {
   "cell_type": "markdown",
   "metadata": {},
   "source": [
    "<h1>Tokenization<h1>"
   ]
  },
  {
   "cell_type": "code",
   "execution_count": 16,
   "metadata": {},
   "outputs": [],
   "source": [
    "\n",
    "stopwords_en = stopwords.words(\"english\")\n",
    "stopwords_en.remove('not')\n",
    "ps = PorterStemmer()\n",
    "#word_lemtize = WordNetLemmatizer()\n",
    "#this function for clean data text\n",
    "\n",
    "def wrangle(tweet):\n",
    "    # Remove URLs\n",
    "    cleaned_tweet = re.sub(r\"http\\S+|www\\S+|https\\S+\", \" \", tweet, flags=re.MULTILINE)\n",
    "    # Remove punctations\n",
    "    clean_ponutations = \"\".join([char for char in cleaned_tweet if char not in punct])\n",
    "    # tokenize\n",
    "    tokens = word_tokenize(clean_ponutations.lower())\n",
    "    # Remove stopwords\n",
    "    words = [word for word in tokens if word not in stopwords_en]\n",
    "    # Stemming\n",
    "    tweet = \" \".join([ps.stem(word) for word in words ])\n",
    "    #tweet = \" \".join([word_lemtize.lemmatize(word) for word in words ])\n",
    "    return tweet"
   ]
  },
  {
   "cell_type": "code",
   "execution_count": 17,
   "metadata": {},
   "outputs": [],
   "source": [
    "data_train[\"cleaned_text\"] = data_train[\"text\"].apply(wrangle)\n",
    "data_test[\"cleaned_text\"] = data_test[\"text\"].apply(wrangle)"
   ]
  },
  {
   "cell_type": "markdown",
   "metadata": {},
   "source": [
    "<h1>vectorisation<h1>"
   ]
  },
  {
   "cell_type": "code",
   "execution_count": 18,
   "metadata": {},
   "outputs": [
    {
     "data": {
      "text/html": [
       "<div>\n",
       "<style scoped>\n",
       "    .dataframe tbody tr th:only-of-type {\n",
       "        vertical-align: middle;\n",
       "    }\n",
       "\n",
       "    .dataframe tbody tr th {\n",
       "        vertical-align: top;\n",
       "    }\n",
       "\n",
       "    .dataframe thead th {\n",
       "        text-align: right;\n",
       "    }\n",
       "</style>\n",
       "<table border=\"1\" class=\"dataframe\">\n",
       "  <thead>\n",
       "    <tr style=\"text-align: right;\">\n",
       "      <th></th>\n",
       "      <th>keyword</th>\n",
       "      <th>location</th>\n",
       "      <th>text</th>\n",
       "      <th>target</th>\n",
       "      <th>cleaned_text</th>\n",
       "    </tr>\n",
       "    <tr>\n",
       "      <th>id</th>\n",
       "      <th></th>\n",
       "      <th></th>\n",
       "      <th></th>\n",
       "      <th></th>\n",
       "      <th></th>\n",
       "    </tr>\n",
       "  </thead>\n",
       "  <tbody>\n",
       "    <tr>\n",
       "      <th>48</th>\n",
       "      <td>ablaze</td>\n",
       "      <td>Birmingham</td>\n",
       "      <td>@bbcmtd Wholesale Markets ablaze http://t.co/l...</td>\n",
       "      <td>1</td>\n",
       "      <td>bbcmtd wholesal market ablaz</td>\n",
       "    </tr>\n",
       "    <tr>\n",
       "      <th>49</th>\n",
       "      <td>ablaze</td>\n",
       "      <td>Est. September 2012 - Bristol</td>\n",
       "      <td>We always try to bring the heavy. #metal #RT h...</td>\n",
       "      <td>0</td>\n",
       "      <td>alway tri bring heavi metal rt</td>\n",
       "    </tr>\n",
       "    <tr>\n",
       "      <th>50</th>\n",
       "      <td>ablaze</td>\n",
       "      <td>AFRICA</td>\n",
       "      <td>#AFRICANBAZE: Breaking news:Nigeria flag set a...</td>\n",
       "      <td>1</td>\n",
       "      <td>africanbaz break newsnigeria flag set ablaz aba</td>\n",
       "    </tr>\n",
       "    <tr>\n",
       "      <th>52</th>\n",
       "      <td>ablaze</td>\n",
       "      <td>Philadelphia, PA</td>\n",
       "      <td>Crying out for more! Set me ablaze</td>\n",
       "      <td>0</td>\n",
       "      <td>cri set ablaz</td>\n",
       "    </tr>\n",
       "    <tr>\n",
       "      <th>53</th>\n",
       "      <td>ablaze</td>\n",
       "      <td>London, UK</td>\n",
       "      <td>On plus side LOOK AT THE SKY LAST NIGHT IT WAS...</td>\n",
       "      <td>0</td>\n",
       "      <td>plu side look sky last night ablaz</td>\n",
       "    </tr>\n",
       "  </tbody>\n",
       "</table>\n",
       "</div>"
      ],
      "text/plain": [
       "   keyword                       location  \\\n",
       "id                                          \n",
       "48  ablaze                     Birmingham   \n",
       "49  ablaze  Est. September 2012 - Bristol   \n",
       "50  ablaze                         AFRICA   \n",
       "52  ablaze               Philadelphia, PA   \n",
       "53  ablaze                     London, UK   \n",
       "\n",
       "                                                 text  target  \\\n",
       "id                                                              \n",
       "48  @bbcmtd Wholesale Markets ablaze http://t.co/l...       1   \n",
       "49  We always try to bring the heavy. #metal #RT h...       0   \n",
       "50  #AFRICANBAZE: Breaking news:Nigeria flag set a...       1   \n",
       "52                 Crying out for more! Set me ablaze       0   \n",
       "53  On plus side LOOK AT THE SKY LAST NIGHT IT WAS...       0   \n",
       "\n",
       "                                       cleaned_text  \n",
       "id                                                   \n",
       "48                     bbcmtd wholesal market ablaz  \n",
       "49                   alway tri bring heavi metal rt  \n",
       "50  africanbaz break newsnigeria flag set ablaz aba  \n",
       "52                                    cri set ablaz  \n",
       "53               plu side look sky last night ablaz  "
      ]
     },
     "execution_count": 18,
     "metadata": {},
     "output_type": "execute_result"
    }
   ],
   "source": [
    "data_train.head()"
   ]
  },
  {
   "cell_type": "code",
   "execution_count": 19,
   "metadata": {},
   "outputs": [],
   "source": [
    "from sklearn.feature_extraction.text import TfidfVectorizer,CountVectorizer"
   ]
  },
  {
   "cell_type": "code",
   "execution_count": 20,
   "metadata": {},
   "outputs": [],
   "source": [
    "X = data_train[\"cleaned_text\"].values\n",
    "y = data_train[\"target\"].values\n",
    "X_t = data_test[\"cleaned_text\"].values"
   ]
  },
  {
   "cell_type": "code",
   "execution_count": 21,
   "metadata": {},
   "outputs": [
    {
     "data": {
      "text/plain": [
       "0           0\n",
       "1           2\n",
       "2           3\n",
       "3           9\n",
       "4          11\n",
       "        ...  \n",
       "3258    10861\n",
       "3259    10865\n",
       "3260    10868\n",
       "3261    10874\n",
       "3262    10875\n",
       "Name: id, Length: 3263, dtype: int64"
      ]
     },
     "execution_count": 21,
     "metadata": {},
     "output_type": "execute_result"
    }
   ],
   "source": [
    "data_test[\"id\"]"
   ]
  },
  {
   "cell_type": "code",
   "execution_count": 22,
   "metadata": {},
   "outputs": [],
   "source": [
    "countif = CountVectorizer()\n",
    "X_c = countif.fit_transform(X)\n",
    "X_t_c = countif.transform(X_t)\n",
    "#we vectorise our sentence\" \n",
    "tfid = TfidfVectorizer()\n",
    "#we use the fit_transform method to convert the text into a matrix of token counts\n",
    "X_f = tfid.fit_transform(X)\n",
    "X_t_f = tfid.transform(X_t)"
   ]
  },
  {
   "cell_type": "code",
   "execution_count": 23,
   "metadata": {},
   "outputs": [],
   "source": [
    "#split data\n",
    "\n",
    "# Assuming X is your feature set and y is the target variable\n",
    "X_train, X_test, y_train, y_test = train_test_split(X_f, y, test_size=0.3, random_state=42)\n",
    "# Assuming X is your feature set and y is the target variable\n",
    "X_train_c, X_test_c, y_train_c, y_test_c = train_test_split(X_c, y, test_size=0.3, random_state=42)\n"
   ]
  },
  {
   "cell_type": "code",
   "execution_count": 24,
   "metadata": {},
   "outputs": [],
   "source": [
    "#features_tfidf = pd.DataFrame(features_tf.toarray())\n",
    "#features_tfidf.columns = tfid.get_feature_names_out()\n",
    "#features_tfidf\n",
    "\n",
    "#print(X_train)\n",
    "#print(\"___________________________________________\")\n",
    "#print(X_test)"
   ]
  },
  {
   "cell_type": "code",
   "execution_count": 25,
   "metadata": {},
   "outputs": [],
   "source": [
    "# Create an instance of Logistic Regression\n",
    "#make dictionnary for know the accurcy of each model\n",
    "dict_models = {}"
   ]
  },
  {
   "cell_type": "code",
   "execution_count": 26,
   "metadata": {},
   "outputs": [
    {
     "name": "stdout",
     "output_type": "stream",
     "text": [
      "Train Accuracy: 0.9718123344684071\n",
      "Train precision 0.9747547523220732\n",
      "Train recall 0.9430463576158941\n",
      "[[3001   20]\n",
      " [ 129 2136]]\n",
      "Test Accuracy: 0.8018534863195057\n",
      "Test precision 0.8199281719861631\n",
      "Test recall 0.8199281719861631\n",
      "[[1209   93]\n",
      " [ 356  608]]\n",
      "we use model svm\n",
      "submission was saved\n"
     ]
    },
    {
     "data": {
      "text/plain": [
       "<Axes: >"
      ]
     },
     "execution_count": 26,
     "metadata": {},
     "output_type": "execute_result"
    },
    {
     "data": {
      "image/png": "[encoded data removed]",
      "text/plain": [
       "<Figure size 640x480 with 2 Axes>"
      ]
     },
     "metadata": {},
     "output_type": "display_data"
    }
   ],
   "source": [
    "#we use tfidvectorise\n",
    "model = svm.SVC()\n",
    "# Fit the model using the training data\n",
    "model.fit(X_train, y_train)\n",
    "# Predict the labels of the train set\n",
    "y_pred = model.predict(X_train)\n",
    "# Print the accuracy of the model\n",
    "print(\"Train Accuracy:\", accuracy_score(y_train, y_pred))\n",
    "print(\"Train precision\",precision_score(y_train, y_pred, average='macro'))\n",
    "print(\"Train recall\",recall_score(y_train, y_pred))\n",
    "print(confusion_matrix(y_train,y_pred))\n",
    "\n",
    "# Predict the labels of the test set\n",
    "y_pred_test = model.predict(X_test)\n",
    "# Print the accuracy of the model test \n",
    "print(\"Test Accuracy:\", accuracy_score(y_test, y_pred_test))\n",
    "print(\"Test precision\",precision_score(y_test, y_pred_test, average='macro'))\n",
    "print(\"Test recall\",precision_score(y_test, y_pred_test, average='macro'))\n",
    "print(confusion_matrix(y_test,y_pred_test))\n",
    "\n",
    "# make prediction for data test\n",
    "predictions = model.predict(X_t_f)\n",
    "\n",
    "# Export Prediction to Dataframe \n",
    "results = pd.DataFrame({ \"id\" : data_test[\"id\"],'target': predictions})\n",
    "\n",
    "# Save Submission to Output File For Submission\n",
    "results.to_csv('submission.csv', index=False)\n",
    "print(\"we use model svm\")\n",
    "dict_models[\"SVC\"] = {}\n",
    "dict_models[\"SVC\"][\"accuracy\"] = accuracy_score(y_test, y_pred_test)\n",
    "dict_models[\"SVC\"][\"precision\"] = precision_score(y_test, y_pred_test, average='macro')\n",
    "dict_models[\"SVC\"][\"recall\"] = recall_score(y_test_c, y_pred_test)\n",
    "\n",
    "print(\"submission was saved\")\n",
    "sns.heatmap(confusion_matrix(y_test,y_pred_test),annot = True,fmt='d')"
   ]
  },
  {
   "cell_type": "code",
   "execution_count": 27,
   "metadata": {},
   "outputs": [
    {
     "name": "stdout",
     "output_type": "stream",
     "text": [
      "Train Accuracy: 0.9903518728717366\n",
      "Train precision 0.9908605255135541\n",
      "Train recall 0.9832229580573951\n",
      "[[3008   13]\n",
      " [  38 2227]]\n",
      "Test Accuracy: 0.7859664607237423\n",
      "Test precision 0.7971548622769133\n",
      "Test recall 0.6265560165975104\n",
      "[[1177  125]\n",
      " [ 360  604]]\n",
      "we use model random forest \n",
      "submission was saved\n"
     ]
    },
    {
     "data": {
      "text/plain": [
       "<Axes: >"
      ]
     },
     "execution_count": 27,
     "metadata": {},
     "output_type": "execute_result"
    },
    {
     "data": {
      "image/png": "[encoded data removed]",
      "text/plain": [
       "<Figure size 640x480 with 2 Axes>"
      ]
     },
     "metadata": {},
     "output_type": "display_data"
    }
   ],
   "source": [
    "#we use TfidfVectorizer\n",
    "model1 = RandomForestClassifier(n_jobs=-1)\n",
    "# Fit the model using the training data\n",
    "model1.fit(X_train, y_train)\n",
    "# Predict the labels of the train set\n",
    "y_pred = model1.predict(X_train)\n",
    "# Print the accuracy of the model train\n",
    "print(\"Train Accuracy:\", accuracy_score(y_train, y_pred))\n",
    "print(\"Train precision\",precision_score(y_train, y_pred, average='macro'))\n",
    "print(\"Train recall\",recall_score(y_train, y_pred))\n",
    "print(confusion_matrix(y_train,y_pred))\n",
    "# Predict the labels of the test set\n",
    "y_pred_test = model1.predict(X_test)\n",
    "# Print the accuracy of the model test \n",
    "print(\"Test Accuracy:\", accuracy_score(y_test, y_pred_test))\n",
    "print(\"Test precision\",precision_score(y_test, y_pred_test, average='macro'))\n",
    "print(\"Test recall\",recall_score(y_test, y_pred_test))\n",
    "print(confusion_matrix(y_test,y_pred_test))\n",
    "# make prediction for data test\n",
    "predictions = model1.predict(X_t_f)\n",
    "\n",
    "# Export Prediction to Dataframe \n",
    "results = pd.DataFrame({ \"id\" : data_test[\"id\"],'target': predictions})\n",
    "\n",
    "# Save Submission to Output File For Submission\n",
    "results.to_csv('submission.csv', index=False)\n",
    "print(\"we use model random forest \")\n",
    "\n",
    "print(\"submission was saved\")\n",
    "dict_models[\"Randomforest\"] = {}\n",
    "dict_models[\"Randomforest\"][\"accuracy\"] = accuracy_score(y_test, y_pred_test)\n",
    "dict_models[\"Randomforest\"][\"precision\"] = precision_score(y_test, y_pred_test, average='macro')\n",
    "dict_models[\"Randomforest\"][\"recall\"] = recall_score(y_test_c, y_pred_test)\n",
    "\n",
    "sns.heatmap(confusion_matrix(y_test,y_pred_test),annot = True,fmt='d')\n"
   ]
  },
  {
   "cell_type": "code",
   "execution_count": 28,
   "metadata": {},
   "outputs": [
    {
     "name": "stdout",
     "output_type": "stream",
     "text": [
      "Train Accuracy: 0.8912220961029134\n",
      "Train precision 0.9062039684466477\n",
      "Train recall 0.7818984547461368\n",
      "[[2940   81]\n",
      " [ 494 1771]]\n",
      "Test Accuracy: 0.8018534863195057\n",
      "Test precision 0.8133036818138034\n",
      "Test recall 0.6524896265560166\n",
      "[[1188  114]\n",
      " [ 335  629]]\n",
      "we use model logistic regression \n",
      "submission was saved\n"
     ]
    },
    {
     "data": {
      "text/plain": [
       "<Axes: >"
      ]
     },
     "execution_count": 28,
     "metadata": {},
     "output_type": "execute_result"
    },
    {
     "data": {
      "image/png": "[encoded data removed]",
      "text/plain": [
       "<Figure size 640x480 with 2 Axes>"
      ]
     },
     "metadata": {},
     "output_type": "display_data"
    }
   ],
   "source": [
    "#we use TfidfVectorizer\n",
    "model2 = LogisticRegression(max_iter=5000,random_state=4)\n",
    "# Fit the model using the training data\n",
    "model2.fit(X_train, y_train)\n",
    "# Predict the labels of the train set\n",
    "y_pred = model2.predict(X_train)\n",
    "# Print the accuracy of the model train\n",
    "print(\"Train Accuracy:\", accuracy_score(y_train, y_pred))\n",
    "print(\"Train precision\",precision_score(y_train, y_pred, average='macro'))\n",
    "print(\"Train recall\",recall_score(y_train, y_pred))\n",
    "print(confusion_matrix(y_train,y_pred))\n",
    "# Predict the labels of the test set\n",
    "y_pred_test = model2.predict(X_test)\n",
    "# Print the accuracy of the model test \n",
    "print(\"Test Accuracy:\", accuracy_score(y_test, y_pred_test))\n",
    "print(\"Test precision\",precision_score(y_test, y_pred_test, average='macro'))\n",
    "print(\"Test recall\",recall_score(y_test, y_pred_test))\n",
    "print(confusion_matrix(y_test,y_pred_test))\n",
    "# make prediction for data test\n",
    "predictions = model2.predict(X_t_f)\n",
    "\n",
    "# Export Prediction to Dataframe \n",
    "results = pd.DataFrame({ \"id\" : data_test[\"id\"],'target': predictions})\n",
    "\n",
    "# Save Submission to Output File For Submission\n",
    "results.to_csv('submission.csv', index=False)\n",
    "print(\"we use model logistic regression \")\n",
    "\n",
    "print(\"submission was saved\")\n",
    "dict_models[\"logisticregression\"] = {}\n",
    "dict_models[\"logisticregression\"][\"accuracy\"] = accuracy_score(y_test, y_pred_test)\n",
    "dict_models[\"logisticregression\"][\"precision\"] = precision_score(y_test, y_pred_test, average='macro')\n",
    "dict_models[\"logisticregression\"][\"recall\"] = recall_score(y_test_c, y_pred_test)\n",
    "sns.heatmap(confusion_matrix(y_test,y_pred_test),annot = True,fmt='d')\n"
   ]
  },
  {
   "cell_type": "code",
   "execution_count": 29,
   "metadata": {},
   "outputs": [
    {
     "name": "stdout",
     "output_type": "stream",
     "text": [
      "Train Accuracy: 0.580779417328793\n",
      "Train precision 0.7695899390298866\n",
      "Train recall 0.022516556291390728\n",
      "[[3019    2]\n",
      " [2214   51]]\n",
      "Test Accuracy: 0.8071491615180936\n",
      "Test precision 0.8178947571687254\n",
      "Test recall 0.6639004149377593\n",
      "[[1189  113]\n",
      " [ 324  640]]\n",
      "we use model svm\n",
      "submission was saved\n"
     ]
    },
    {
     "data": {
      "text/plain": [
       "<Axes: >"
      ]
     },
     "execution_count": 29,
     "metadata": {},
     "output_type": "execute_result"
    },
    {
     "data": {
      "image/png": "[encoded data removed]",
      "text/plain": [
       "<Figure size 640x480 with 2 Axes>"
      ]
     },
     "metadata": {},
     "output_type": "display_data"
    }
   ],
   "source": [
    "#we use countvectorize\n",
    "model_c = svm.SVC()\n",
    "# Fit the model using the training data\n",
    "model_c.fit(X_train_c, y_train_c)\n",
    "# Predict the labels of the train set\n",
    "y_pred_c = model.predict(X_train_c)\n",
    "# Print the accuracy of the model\n",
    "print(\"Train Accuracy:\", accuracy_score(y_train_c, y_pred_c))\n",
    "print(\"Train precision\",precision_score(y_train, y_pred_c, average='macro'))\n",
    "print(\"Train recall\",recall_score(y_train_c, y_pred_c))\n",
    "print(confusion_matrix(y_train_c,y_pred_c))\n",
    "\n",
    "# Predict the labels of the test set\n",
    "y_pred_test_c = model_c.predict(X_test_c)\n",
    "# Print the accuracy of the model test \n",
    "print(\"Test Accuracy:\", accuracy_score(y_test_c, y_pred_test_c))\n",
    "print(\"Test precision\",precision_score(y_test_c, y_pred_test_c, average='macro'))\n",
    "print(\"Test recall\",recall_score(y_test_c, y_pred_test_c))\n",
    "print(confusion_matrix(y_test_c,y_pred_test_c))\n",
    "\n",
    "# make prediction for data test\n",
    "predictions = model_c.predict(X_t_c)\n",
    "\n",
    "# Export Prediction to Dataframe \n",
    "results = pd.DataFrame({ \"id\" : data_test[\"id\"],'target': predictions})\n",
    "\n",
    "# Save Submission to Output File For Submission\n",
    "results.to_csv('submission.csv', index=False)\n",
    "print(\"we use model svm\")\n",
    "\n",
    "print(\"submission was saved\")\n",
    "dict_models[\"SVC_count\"] = {}\n",
    "dict_models[\"SVC_count\"][\"accuracy\"] = accuracy_score(y_test_c, y_pred_test_c)\n",
    "dict_models[\"SVC_count\"][\"precision\"] = precision_score(y_test_c, y_pred_test_c, average='macro')\n",
    "dict_models[\"SVC_count\"][\"recall\"] = recall_score(y_test_c, y_pred_test_c)\n",
    "sns.heatmap(confusion_matrix(y_test_c,y_pred_test_c),annot = True,fmt='d')"
   ]
  },
  {
   "cell_type": "code",
   "execution_count": 30,
   "metadata": {},
   "outputs": [
    {
     "name": "stdout",
     "output_type": "stream",
     "text": [
      "Train Accuracy: 0.580779417328793\n",
      "Train precision 0.7695899390298866\n",
      "Train recall 0.022516556291390728\n",
      "[[3019    2]\n",
      " [2214   51]]\n",
      "Test Accuracy: 0.7837599293909974\n",
      "Test precision 0.7931626580709149\n",
      "Test recall 0.6296680497925311\n",
      "[[1169  133]\n",
      " [ 357  607]]\n",
      "we use model random forest \n",
      "submission was saved\n"
     ]
    },
    {
     "data": {
      "text/plain": [
       "<Axes: >"
      ]
     },
     "execution_count": 30,
     "metadata": {},
     "output_type": "execute_result"
    },
    {
     "data": {
      "image/png": "[encoded data removed]",
      "text/plain": [
       "<Figure size 640x480 with 2 Axes>"
      ]
     },
     "metadata": {},
     "output_type": "display_data"
    }
   ],
   "source": [
    "#we use countvectorize\n",
    "model_c1 = RandomForestClassifier(n_jobs=-1)\n",
    "# Fit the model using the training data\n",
    "model_c1.fit(X_train_c, y_train_c)\n",
    "# Predict the labels of the train set\n",
    "y_pred_c = model.predict(X_train_c)\n",
    "# Print the accuracy of the model\n",
    "print(\"Train Accuracy:\", accuracy_score(y_train_c, y_pred_c))\n",
    "print(\"Train precision\",precision_score(y_train, y_pred_c, average='macro'))\n",
    "print(\"Train recall\",recall_score(y_train_c, y_pred_c))\n",
    "print(confusion_matrix(y_train_c,y_pred_c))\n",
    "\n",
    "# Predict the labels of the test set\n",
    "y_pred_test_c = model_c1.predict(X_test_c)\n",
    "# Print the accuracy of the model test \n",
    "print(\"Test Accuracy:\", accuracy_score(y_test_c, y_pred_test_c))\n",
    "print(\"Test precision\",precision_score(y_test_c, y_pred_test_c, average='macro'))\n",
    "print(\"Test recall\",recall_score(y_test_c, y_pred_test_c))\n",
    "print(confusion_matrix(y_test,y_pred_test_c))\n",
    "\n",
    "# make prediction for data test\n",
    "predictions = model_c1.predict(X_t_c)\n",
    "\n",
    "# Export Prediction to Dataframe \n",
    "results = pd.DataFrame({ \"id\" : data_test[\"id\"],'target': predictions})\n",
    "\n",
    "# Save Submission to Output File For Submission\n",
    "results.to_csv('submission.csv', index=False)\n",
    "print(\"we use model random forest \")\n",
    "\n",
    "print(\"submission was saved\")\n",
    "dict_models[\"Randomforest_count\"] = {}\n",
    "dict_models[\"Randomforest_count\"][\"accuracy\"] = accuracy_score(y_test_c, y_pred_test_c)\n",
    "dict_models[\"Randomforest_count\"][\"precision\"] = precision_score(y_test_c, y_pred_test_c, average='macro')\n",
    "dict_models[\"Randomforest_count\"][\"recall\"] = recall_score(y_test_c, y_pred_test_c)\n",
    "sns.heatmap(confusion_matrix(y_test_c,y_pred_test_c),annot = True,fmt='d')"
   ]
  },
  {
   "cell_type": "code",
   "execution_count": 31,
   "metadata": {},
   "outputs": [
    {
     "name": "stdout",
     "output_type": "stream",
     "text": [
      "Train Accuracy: 0.9606507756337496\n",
      "Train precision 0.9640496270096033\n",
      "Train recall 0.9253863134657837\n",
      "[[2982   39]\n",
      " [ 169 2096]]\n",
      "Test Accuracy: 0.793468667255075\n",
      "Test precision 0.7931281156530409\n",
      "Test recall 0.6981327800829875\n",
      "[[1125  177]\n",
      " [ 291  673]]\n",
      "we use model logistic regression \n",
      "submission was saved\n"
     ]
    },
    {
     "data": {
      "text/plain": [
       "<Axes: >"
      ]
     },
     "execution_count": 31,
     "metadata": {},
     "output_type": "execute_result"
    },
    {
     "data": {
      "image/png": "[encoded data removed]",
      "text/plain": [
       "<Figure size 640x480 with 2 Axes>"
      ]
     },
     "metadata": {},
     "output_type": "display_data"
    }
   ],
   "source": [
    "#we use countvectorize\n",
    "model_c2 = LogisticRegression(max_iter=5000,random_state=4)\n",
    "# Fit the model using the training data\n",
    "model_c2.fit(X_train_c, y_train_c)\n",
    "# Predict the labels of the train set\n",
    "y_pred_c = model_c2.predict(X_train_c)\n",
    "# Print the accuracy of the model\n",
    "print(\"Train Accuracy:\", accuracy_score(y_train_c, y_pred_c))\n",
    "print(\"Train precision\",precision_score(y_train, y_pred_c, average='macro'))\n",
    "print(\"Train recall\",recall_score(y_train_c, y_pred_c))\n",
    "print(confusion_matrix(y_train_c,y_pred_c))\n",
    "\n",
    "# Predict the labels of the test set\n",
    "y_pred_test_c = model_c2.predict(X_test_c)\n",
    "# Print the accuracy of the model test \n",
    "print(\"Test Accuracy:\", accuracy_score(y_test_c, y_pred_test_c))\n",
    "print(\"Test precision\",precision_score(y_test_c, y_pred_test_c, average='macro'))\n",
    "print(\"Test recall\",recall_score(y_test_c, y_pred_test_c))\n",
    "print(confusion_matrix(y_test,y_pred_test_c))\n",
    "\n",
    "# make prediction for data test\n",
    "predictions = model_c2.predict(X_t_c)\n",
    "\n",
    "# Export Prediction to Dataframe \n",
    "results = pd.DataFrame({ \"id\" : data_test[\"id\"],'target': predictions})\n",
    "\n",
    "# Save Submission to Output File For Submission\n",
    "results.to_csv('submission.csv', index=False)\n",
    "print(\"we use model logistic regression \")\n",
    "\n",
    "print(\"submission was saved\")\n",
    "dict_models[\"logisticregression_count\"] = {}\n",
    "dict_models[\"logisticregression_count\"][\"accuracy\"] = accuracy_score(y_test_c, y_pred_test_c)\n",
    "dict_models[\"logisticregression_count\"][\"precision\"] = precision_score(y_test_c, y_pred_test_c, average='macro')\n",
    "dict_models[\"logisticregression_count\"][\"recall\"] = recall_score(y_test_c, y_pred_test_c)\n",
    "sns.heatmap(confusion_matrix(y_test_c,y_pred_test_c),annot = True,fmt='d')"
   ]
  },
  {
   "cell_type": "markdown",
   "metadata": {},
   "source": [
    "#we see the best model can use is SVC"
   ]
  },
  {
   "cell_type": "code",
   "execution_count": 32,
   "metadata": {},
   "outputs": [],
   "source": [
    "#'solver':['lbfgs', 'liblinear', 'newton-cg', 'newton-cholesky', 'sag', 'saga'],\n",
    "parameters = {'max_depth':[2,10,20], 'n_estimators':[10,100,200,300]}\n",
    "model_final = RandomForestClassifier()\n",
    "clf = GridSearchCV(model_final,parameters,cv=5)\n",
    "clf.fit(X_train,y_train)\n",
    "\n",
    "print(clf.best_params_)\n",
    "print(clf.best_score_)\n",
    "sorted(clf.cv_results_.keys())"
   ]
  },
  {
   "cell_type": "code",
   "execution_count": null,
   "metadata": {},
   "outputs": [
    {
     "data": {
      "text/plain": [
       "{'SVC': {'accuracy': 0.8018534863195057,\n",
       "  'precision': 0.8199281719861631,\n",
       "  'recall': 0.6307053941908713},\n",
       " 'Randomforest': {'accuracy': 0.7833186231244483,\n",
       "  'precision': 0.7896517789882997,\n",
       "  'recall': 0.6421161825726142},\n",
       " 'logisticregression': {'accuracy': 0.8018534863195057,\n",
       "  'precision': 0.8199281719861631,\n",
       "  'recall': 0.6307053941908713},\n",
       " 'SVC_count': {'accuracy': 0.8018534863195057,\n",
       "  'precision': 0.8199281719861631,\n",
       "  'recall': 0.6639004149377593},\n",
       " 'Randomforest_count': {'accuracy': 0.8018534863195057,\n",
       "  'precision': 0.8199281719861631,\n",
       "  'recall': 0.6421161825726142},\n",
       " 'logisticregression_count': {'accuracy': 0.8018534863195057,\n",
       "  'precision': 0.8199281719861631,\n",
       "  'recall': 0.6981327800829875}}"
      ]
     },
     "execution_count": 33,
     "metadata": {},
     "output_type": "execute_result"
    }
   ],
   "source": [
    "dict_models"
   ]
  }
 ],
 "metadata": {
  "kernelspec": {
   "display_name": "Python 3",
   "language": "python",
   "name": "python3"
  },
  "language_info": {
   "codemirror_mode": {
    "name": "ipython",
    "version": 3
   },
   "file_extension": ".py",
   "mimetype": "text/x-python",
   "name": "python",
   "nbconvert_exporter": "python",
   "pygments_lexer": "ipython3",
   "version": "3.11.9"
  }
 },
 "nbformat": 4,
 "nbformat_minor": 2
}
